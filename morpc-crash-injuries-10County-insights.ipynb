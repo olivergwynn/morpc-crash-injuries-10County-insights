{
 "cells": [
  {
   "cell_type": "markdown",
   "id": "4e254117-5132-4b95-a8f8-e8b61cf51cef",
   "metadata": {},
   "source": [
    "# Crash Data Insights"
   ]
  },
  {
   "cell_type": "markdown",
   "id": "93674c81-a050-4ce0-922f-72b1bc6fb438",
   "metadata": {},
   "source": [
    "## Setup"
   ]
  },
  {
   "cell_type": "code",
   "execution_count": 1,
   "id": "24634315-dbef-4555-83de-fc098e0b12af",
   "metadata": {},
   "outputs": [
    {
     "name": "stderr",
     "output_type": "stream",
     "text": [
      "C:\\Users\\ogwynn\\AppData\\Local\\Packages\\PythonSoftwareFoundation.Python.3.12_qbz5n2kfra8p0\\LocalCache\\local-packages\\Python312\\site-packages\\dask\\dataframe\\__init__.py:49: FutureWarning: \n",
      "Dask dataframe query planning is disabled because dask-expr is not installed.\n",
      "\n",
      "You can install it with `pip install dask[dataframe]` or `conda install dask`.\n",
      "This will raise in a future version.\n",
      "\n",
      "  warnings.warn(msg, FutureWarning)\n"
     ]
    }
   ],
   "source": [
    "import pandas as pd\n",
    "import os\n",
    "import matplotlib.pyplot as plt\n",
    "import sys\n",
    "sys.path.append(os.path.normpath(\"../morpc-common\"))\n",
    "import morpc\n",
    "import matplotlib.pyplot as plt\n",
    "import time\n",
    "from arcgis.features import FeatureLayerCollection\n",
    "from arcgis.gis import GIS\n",
    "from pathlib import Path\n",
    "from zipfile import ZipFile\n",
    "\n",
    "# Connect to ArcGIS Online\n",
    "gis = GIS(\"https://www.arcgis.com\", \"ogwynn_morpc\", \"Cr33p3r11!!\")"
   ]
  },
  {
   "cell_type": "markdown",
   "id": "c1333fc5-9f35-4e8b-90a7-f01276719dc8",
   "metadata": {},
   "source": [
    "### Parameters and code maps"
   ]
  },
  {
   "cell_type": "code",
   "execution_count": 2,
   "id": "8e58d313-3957-4a23-889b-2d249f01b1bc",
   "metadata": {},
   "outputs": [],
   "source": [
    "selected_counties = ['Delaware', 'Fairfield', 'Franklin', 'Knox', 'Licking',\n",
    "                     'Madison', 'Marion', 'Morrow', 'Pickaway', 'Union', '10-County']\n",
    "\n",
    "selected_crash_type = ['Rear End','Fixed Object','Sideswipe - Passing','Angle','Left Turn','Parked Vehicle','Animal','Backing','Right Turn','Head On','Pedestrian','Overturning','Pedacycles','Motorized', 'Non-motorized']\n",
    "\n",
    "\n",
    "# Replace with your AGO credentials\n",
    "username = \"ogwynn_morpc\"\n",
    "password = \"Cr33p3r11!!\"\n",
    "\n",
    "# Dictionary mapping county codes to county names\n",
    "county_code_to_name = {\n",
    "    'FRA': 'Franklin',\n",
    "    'MAR': 'Marion',\n",
    "    'DEL': 'Delaware',\n",
    "    'UNI': 'Union',\n",
    "    'LOG': 'Logan',\n",
    "    'CRA': 'Crawford',\n",
    "    'FAI': 'Fairfield',\n",
    "    'KNO': 'Knox',\n",
    "    'LOG': 'Logan',\n",
    "    'LIC': 'Licking',\n",
    "    'MAD': 'Madison',\n",
    "    'MRW': 'Morrow',\n",
    "    'PIC': 'Pickaway',\n",
    "    'RIC': 'Richland',\n",
    "    'ROS': 'Ross',\n",
    "    'PER': 'Perry',\n",
    "    'POR': 'Portage',\n",
    "    'UNI': 'Union',\n",
    "    'HAR': 'Hardin',\n",
    "    'HAN': 'Hancock',\n",
    "    'MOT': 'Montgomery',\n",
    "    'SUM': 'Summit',\n",
    "    'WYA': 'Wyandot',\n",
    "\n",
    "    # Add more county codes and names as needed\n",
    "}\n"
   ]
  },
  {
   "cell_type": "markdown",
   "id": "aaa0052d-1880-4d70-b1ea-b77a66427b77",
   "metadata": {},
   "source": [
    "## Data Retreival"
   ]
  },
  {
   "cell_type": "markdown",
   "id": "4e8c343c-845a-4dff-bc43-d0db4addc754",
   "metadata": {},
   "source": [
    "### Pull crash data from AGO"
   ]
  },
  {
   "cell_type": "code",
   "execution_count": 3,
   "id": "065bb7ad-32d4-4315-af64-c4ef25e205ac",
   "metadata": {},
   "outputs": [
    {
     "name": "stdout",
     "output_type": "stream",
     "text": [
      "CSV file downloaded successfully and saved as 'inputData/MORPC_Crashes_2019-2023_GIS.csv'\n"
     ]
    }
   ],
   "source": [
    "import requests\n",
    "\n",
    "def download_csv_from_ago(url, local_filename):\n",
    "    try:\n",
    "        # Send a GET request to the URL\n",
    "        response = requests.get(url)\n",
    "        response.raise_for_status()  # Raise an exception for HTTP errors\n",
    "        \n",
    "        # Write the content to a local CSV file\n",
    "        with open(local_filename, 'wb') as file:\n",
    "            file.write(response.content)\n",
    "        \n",
    "        print(f\"CSV file downloaded successfully and saved as '{local_filename}'\")\n",
    "    \n",
    "    except requests.exceptions.RequestException as e:\n",
    "        print(f\"Error occurred while downloading the CSV: {e}\")\n",
    "\n",
    "# URL of the CSV file on AGO\n",
    "url = 'https://morpc.maps.arcgis.com/sharing/rest/content/items/97a9bde6b3b24358b52ca86964714f76/data'\n",
    "\n",
    "# Local filename to save the CSV\n",
    "input1_path = 'inputData/MORPC_Crashes_2019-2023_GIS.csv'\n",
    "\n",
    "# Call the function to download and save the CSV\n",
    "download_csv_from_ago(url, input1_path)\n"
   ]
  },
  {
   "cell_type": "markdown",
   "id": "201e5aa2-c24f-468e-847f-4198216fda7e",
   "metadata": {},
   "source": [
    "## Cleaning crash data"
   ]
  },
  {
   "cell_type": "markdown",
   "id": "0bdbcbb1-dcbd-4c5e-a98a-8bfdd99b372b",
   "metadata": {},
   "source": [
    "### Crash type summary"
   ]
  },
  {
   "cell_type": "code",
   "execution_count": 4,
   "id": "cc1a48d8-7b0e-4536-8aa4-7c03a5513e82",
   "metadata": {},
   "outputs": [
    {
     "name": "stdout",
     "output_type": "stream",
     "text": [
      "Summary of 'NLF_COUNTY_CD':\n",
      "CRASH_TYPE_CD\n",
      "Rear End                      49216\n",
      "Fixed Object                  31842\n",
      "Sideswipe - Passing           30963\n",
      "Angle                         30806\n",
      "Left Turn                     13670\n",
      "Parked Vehicle                13090\n",
      "Animal                        10178\n",
      "Backing                        7572\n",
      "Right Turn                     6179\n",
      "Head On                        4197\n",
      "Pedestrian                     2951\n",
      "Other Non-Collision            2918\n",
      "Overturning                    1351\n",
      "Pedalcycles                    1257\n",
      "Unknown                        1190\n",
      "Other Object                    929\n",
      "Sideswipe - Meeting             107\n",
      "Train                            21\n",
      "Other Non-Vehicle                 2\n",
      "Falling From Or In Vehicle        1\n",
      "Name: count, dtype: int64\n"
     ]
    }
   ],
   "source": [
    "import pandas as pd\n",
    "\n",
    "# Read the CSV file into a DataFrame\n",
    "df = pd.read_csv(input1_path)\n",
    "\n",
    "# Summarize the 'CRASH_TYPE_CD' column by counting occurrences\n",
    "crash_type_summary = df['CRASH_TYPE_CD'].value_counts()\n",
    "\n",
    "# Display the summary\n",
    "print(\"Summary of 'NLF_COUNTY_CD':\")\n",
    "print(crash_type_summary)"
   ]
  },
  {
   "cell_type": "markdown",
   "id": "fc9992bb-62fe-4ea7-b6cc-ea1a6fea2a3f",
   "metadata": {},
   "source": [
    "### Grouping by location and crash type, sum fatalities and injuries"
   ]
  },
  {
   "cell_type": "markdown",
   "id": "089f4f15-b5db-4d88-b06d-8d081873c0ec",
   "metadata": {},
   "source": [
    "#### Sum for Non-motorized incidents"
   ]
  },
  {
   "cell_type": "code",
   "execution_count": 5,
   "id": "14721e1a-8d7b-4b00-b281-3ac182dfa29c",
   "metadata": {},
   "outputs": [
    {
     "data": {
      "text/html": [
       "<div>\n",
       "<style scoped>\n",
       "    .dataframe tbody tr th:only-of-type {\n",
       "        vertical-align: middle;\n",
       "    }\n",
       "\n",
       "    .dataframe tbody tr th {\n",
       "        vertical-align: top;\n",
       "    }\n",
       "\n",
       "    .dataframe thead th {\n",
       "        text-align: right;\n",
       "    }\n",
       "</style>\n",
       "<table border=\"1\" class=\"dataframe\">\n",
       "  <thead>\n",
       "    <tr style=\"text-align: right;\">\n",
       "      <th></th>\n",
       "      <th>Year</th>\n",
       "      <th>NLF_COUNTY_CD</th>\n",
       "      <th>CRASH_TYPE_CD</th>\n",
       "      <th>ODPS_TOTAL_FATALITIES_NBR</th>\n",
       "      <th>INCAPAC_INJURIES_NBR</th>\n",
       "      <th>NON_INCAPAC_INJURIES_NBR</th>\n",
       "      <th>POSSIBLE_INJURIES_NBR</th>\n",
       "      <th>NO_INJURY_REPORTED_NBR</th>\n",
       "      <th>CRASH_COUNT</th>\n",
       "    </tr>\n",
       "  </thead>\n",
       "  <tbody>\n",
       "    <tr>\n",
       "      <th>0</th>\n",
       "      <td>2019</td>\n",
       "      <td>CRA</td>\n",
       "      <td>Rear End</td>\n",
       "      <td>0</td>\n",
       "      <td>0</td>\n",
       "      <td>0</td>\n",
       "      <td>0</td>\n",
       "      <td>7</td>\n",
       "      <td>2</td>\n",
       "    </tr>\n",
       "    <tr>\n",
       "      <th>1</th>\n",
       "      <td>2019</td>\n",
       "      <td>DEL</td>\n",
       "      <td>Angle</td>\n",
       "      <td>2</td>\n",
       "      <td>15</td>\n",
       "      <td>184</td>\n",
       "      <td>140</td>\n",
       "      <td>1139</td>\n",
       "      <td>507</td>\n",
       "    </tr>\n",
       "    <tr>\n",
       "      <th>2</th>\n",
       "      <td>2019</td>\n",
       "      <td>DEL</td>\n",
       "      <td>Animal</td>\n",
       "      <td>0</td>\n",
       "      <td>1</td>\n",
       "      <td>6</td>\n",
       "      <td>16</td>\n",
       "      <td>419</td>\n",
       "      <td>322</td>\n",
       "    </tr>\n",
       "    <tr>\n",
       "      <th>3</th>\n",
       "      <td>2019</td>\n",
       "      <td>DEL</td>\n",
       "      <td>Backing</td>\n",
       "      <td>0</td>\n",
       "      <td>0</td>\n",
       "      <td>2</td>\n",
       "      <td>4</td>\n",
       "      <td>263</td>\n",
       "      <td>131</td>\n",
       "    </tr>\n",
       "    <tr>\n",
       "      <th>4</th>\n",
       "      <td>2019</td>\n",
       "      <td>DEL</td>\n",
       "      <td>Fixed Object</td>\n",
       "      <td>4</td>\n",
       "      <td>22</td>\n",
       "      <td>122</td>\n",
       "      <td>62</td>\n",
       "      <td>648</td>\n",
       "      <td>640</td>\n",
       "    </tr>\n",
       "  </tbody>\n",
       "</table>\n",
       "</div>"
      ],
      "text/plain": [
       "   Year NLF_COUNTY_CD CRASH_TYPE_CD  ODPS_TOTAL_FATALITIES_NBR  \\\n",
       "0  2019           CRA      Rear End                          0   \n",
       "1  2019           DEL         Angle                          2   \n",
       "2  2019           DEL        Animal                          0   \n",
       "3  2019           DEL       Backing                          0   \n",
       "4  2019           DEL  Fixed Object                          4   \n",
       "\n",
       "   INCAPAC_INJURIES_NBR  NON_INCAPAC_INJURIES_NBR  POSSIBLE_INJURIES_NBR  \\\n",
       "0                     0                         0                      0   \n",
       "1                    15                       184                    140   \n",
       "2                     1                         6                     16   \n",
       "3                     0                         2                      4   \n",
       "4                    22                       122                     62   \n",
       "\n",
       "   NO_INJURY_REPORTED_NBR  CRASH_COUNT  \n",
       "0                       7            2  \n",
       "1                    1139          507  \n",
       "2                     419          322  \n",
       "3                     263          131  \n",
       "4                     648          640  "
      ]
     },
     "execution_count": 5,
     "metadata": {},
     "output_type": "execute_result"
    }
   ],
   "source": [
    "import pandas as pd\n",
    "\n",
    "# Read the first CSV file into a DataFrame\n",
    "df1 = pd.read_csv(input1_path)\n",
    "\n",
    "# Group by 'Year', 'NLF_COUNTY_CD', 'CRASH_TYPE_CD' and aggregate the specified columns\n",
    "df2 = df1.groupby(['Year', 'NLF_COUNTY_CD', 'CRASH_TYPE_CD']).agg({\n",
    "    'ODPS_TOTAL_FATALITIES_NBR': 'sum',\n",
    "    'INCAPAC_INJURIES_NBR': 'sum',\n",
    "    'NON_INCAPAC_INJURIES_NBR': 'sum',\n",
    "    'POSSIBLE_INJURIES_NBR': 'sum',\n",
    "    'NO_INJURY_REPORTED_NBR': 'sum'\n",
    "}).reset_index()\n",
    "\n",
    "# Add a column for the count of rows summed\n",
    "df2['CRASH_COUNT'] = df1.groupby(['Year', 'NLF_COUNTY_CD', 'CRASH_TYPE_CD']).size().values\n",
    "\n",
    "# Save the grouped DataFrame to a CSV file\n",
    "input2_path = 'inputData/MORPC_Crashes_2019-2023_GIS_SUMMARY.csv'\n",
    "df2.to_csv(input2_path, index=False)\n",
    "\n",
    "# Classify crash types and create new aggregated rows for 'Motorized' and 'Non-motorized'\n",
    "motorized_condition = ~df2['CRASH_TYPE_CD'].str.contains('Pedestrian|Pedalcycle', na=False)\n",
    "non_motorized_condition = df2['CRASH_TYPE_CD'].str.contains('Pedestrian|Pedalcycle', na=False)\n",
    "\n",
    "# Group for 'Motorized'\n",
    "motorized = df2[motorized_condition].groupby(['Year', 'NLF_COUNTY_CD']).agg({\n",
    "    'ODPS_TOTAL_FATALITIES_NBR': 'sum',\n",
    "    'INCAPAC_INJURIES_NBR': 'sum',\n",
    "    'NON_INCAPAC_INJURIES_NBR': 'sum',\n",
    "    'POSSIBLE_INJURIES_NBR': 'sum',\n",
    "    'NO_INJURY_REPORTED_NBR': 'sum',\n",
    "    'CRASH_COUNT': 'sum'\n",
    "}).reset_index()\n",
    "motorized['CRASH_TYPE_CD'] = 'Motorized'\n",
    "\n",
    "# Group for 'Non-motorized'\n",
    "non_motorized = df2[non_motorized_condition].groupby(['Year', 'NLF_COUNTY_CD']).agg({\n",
    "    'ODPS_TOTAL_FATALITIES_NBR': 'sum',\n",
    "    'INCAPAC_INJURIES_NBR': 'sum',\n",
    "    'NON_INCAPAC_INJURIES_NBR': 'sum',\n",
    "    'POSSIBLE_INJURIES_NBR': 'sum',\n",
    "    'NO_INJURY_REPORTED_NBR': 'sum',\n",
    "    'CRASH_COUNT': 'sum'\n",
    "}).reset_index()\n",
    "non_motorized['CRASH_TYPE_CD'] = 'Non-motorized'\n",
    "\n",
    "# Concatenate the new rows with the original DataFrame\n",
    "df3 = pd.concat([df2, motorized, non_motorized], ignore_index=True)\n",
    "\n",
    "# Save the final DataFrame to a CSV file\n",
    "input3_path = 'inputData/MORPC_Crashes_2019-2023_GIS_SUMMARY_GROUPED.csv'\n",
    "df3.to_csv(input3_path, index=False)\n",
    "\n",
    "# Display the final DataFrame\n",
    "df3.head()\n"
   ]
  },
  {
   "cell_type": "markdown",
   "id": "a9a29d7b-4fa1-485a-a6c2-a5b248e059f8",
   "metadata": {},
   "source": [
    "### Completing dataset"
   ]
  },
  {
   "cell_type": "markdown",
   "id": "cf8ca49b-75fd-4ad1-9266-90afac0ddda7",
   "metadata": {},
   "source": [
    "#### Enure row existis for each 'Year', 'NLF_COUNTY_CD', 'CRASH_TYPE_CD' combination"
   ]
  },
  {
   "cell_type": "code",
   "execution_count": 6,
   "id": "74f5a0da-58d5-44c2-be60-6d533b8f313d",
   "metadata": {},
   "outputs": [
    {
     "data": {
      "text/html": [
       "<div>\n",
       "<style scoped>\n",
       "    .dataframe tbody tr th:only-of-type {\n",
       "        vertical-align: middle;\n",
       "    }\n",
       "\n",
       "    .dataframe tbody tr th {\n",
       "        vertical-align: top;\n",
       "    }\n",
       "\n",
       "    .dataframe thead th {\n",
       "        text-align: right;\n",
       "    }\n",
       "</style>\n",
       "<table border=\"1\" class=\"dataframe\">\n",
       "  <thead>\n",
       "    <tr style=\"text-align: right;\">\n",
       "      <th></th>\n",
       "      <th>Year</th>\n",
       "      <th>NLF_COUNTY_CD</th>\n",
       "      <th>CRASH_TYPE_CD</th>\n",
       "      <th>ODPS_TOTAL_FATALITIES_NBR</th>\n",
       "      <th>INCAPAC_INJURIES_NBR</th>\n",
       "      <th>NON_INCAPAC_INJURIES_NBR</th>\n",
       "      <th>POSSIBLE_INJURIES_NBR</th>\n",
       "      <th>NO_INJURY_REPORTED_NBR</th>\n",
       "      <th>CRASH_COUNT</th>\n",
       "    </tr>\n",
       "  </thead>\n",
       "  <tbody>\n",
       "    <tr>\n",
       "      <th>0</th>\n",
       "      <td>2019</td>\n",
       "      <td>CRA</td>\n",
       "      <td>Rear End</td>\n",
       "      <td>0</td>\n",
       "      <td>0</td>\n",
       "      <td>0</td>\n",
       "      <td>0</td>\n",
       "      <td>7</td>\n",
       "      <td>2</td>\n",
       "    </tr>\n",
       "    <tr>\n",
       "      <th>1</th>\n",
       "      <td>2019</td>\n",
       "      <td>CRA</td>\n",
       "      <td>Angle</td>\n",
       "      <td>0</td>\n",
       "      <td>0</td>\n",
       "      <td>0</td>\n",
       "      <td>0</td>\n",
       "      <td>0</td>\n",
       "      <td>0</td>\n",
       "    </tr>\n",
       "    <tr>\n",
       "      <th>2</th>\n",
       "      <td>2019</td>\n",
       "      <td>CRA</td>\n",
       "      <td>Animal</td>\n",
       "      <td>0</td>\n",
       "      <td>0</td>\n",
       "      <td>0</td>\n",
       "      <td>0</td>\n",
       "      <td>0</td>\n",
       "      <td>0</td>\n",
       "    </tr>\n",
       "    <tr>\n",
       "      <th>3</th>\n",
       "      <td>2019</td>\n",
       "      <td>CRA</td>\n",
       "      <td>Backing</td>\n",
       "      <td>0</td>\n",
       "      <td>0</td>\n",
       "      <td>0</td>\n",
       "      <td>0</td>\n",
       "      <td>0</td>\n",
       "      <td>0</td>\n",
       "    </tr>\n",
       "    <tr>\n",
       "      <th>4</th>\n",
       "      <td>2019</td>\n",
       "      <td>CRA</td>\n",
       "      <td>Fixed Object</td>\n",
       "      <td>0</td>\n",
       "      <td>0</td>\n",
       "      <td>0</td>\n",
       "      <td>0</td>\n",
       "      <td>0</td>\n",
       "      <td>0</td>\n",
       "    </tr>\n",
       "  </tbody>\n",
       "</table>\n",
       "</div>"
      ],
      "text/plain": [
       "   Year NLF_COUNTY_CD CRASH_TYPE_CD  ODPS_TOTAL_FATALITIES_NBR  \\\n",
       "0  2019           CRA      Rear End                          0   \n",
       "1  2019           CRA         Angle                          0   \n",
       "2  2019           CRA        Animal                          0   \n",
       "3  2019           CRA       Backing                          0   \n",
       "4  2019           CRA  Fixed Object                          0   \n",
       "\n",
       "   INCAPAC_INJURIES_NBR  NON_INCAPAC_INJURIES_NBR  POSSIBLE_INJURIES_NBR  \\\n",
       "0                     0                         0                      0   \n",
       "1                     0                         0                      0   \n",
       "2                     0                         0                      0   \n",
       "3                     0                         0                      0   \n",
       "4                     0                         0                      0   \n",
       "\n",
       "   NO_INJURY_REPORTED_NBR  CRASH_COUNT  \n",
       "0                       7            2  \n",
       "1                       0            0  \n",
       "2                       0            0  \n",
       "3                       0            0  \n",
       "4                       0            0  "
      ]
     },
     "execution_count": 6,
     "metadata": {},
     "output_type": "execute_result"
    }
   ],
   "source": [
    "import pandas as pd\n",
    "import numpy as np\n",
    "\n",
    "# Load the uploaded grouped casualty summary CSV\n",
    "df = pd.read_csv(input3_path)\n",
    "\n",
    "# Extract unique values for Year, NLF_COUNTY_CD, and CASUALTY_TYPE\n",
    "years = df['Year'].unique()\n",
    "counties = df['NLF_COUNTY_CD'].unique()\n",
    "casualty_types = df['CRASH_TYPE_CD'].unique()\n",
    "\n",
    "# Create a MultiIndex for all combinations of Year, NLF_COUNTY_CD, and CASUALTY_TYPE\n",
    "full_index = pd.MultiIndex.from_product([years, counties, casualty_types], names=['Year', 'NLF_COUNTY_CD', 'CRASH_TYPE_CD'])\n",
    "\n",
    "# Reindex the DataFrame to ensure all combinations are present, filling missing rows with zeros\n",
    "df4 = df.set_index(['Year', 'NLF_COUNTY_CD', 'CRASH_TYPE_CD']).reindex(full_index, fill_value=0).reset_index()\n",
    "\n",
    "\n",
    "# Save the resulting DataFrame to a new CSV file\n",
    "input4_path = 'inputData/MORPC_Crashes_2019-2023_GIS_SUMMARY_GROUPED_FULL.csv'\n",
    "\n",
    "df4.to_csv(input4_path, index=False)\n",
    "\n",
    "# Display the resulting DataFrame\n",
    "df4.head()"
   ]
  },
  {
   "cell_type": "markdown",
   "id": "eddc3331-baff-4323-a3a2-1899226a741e",
   "metadata": {},
   "source": [
    "### County codes to names"
   ]
  },
  {
   "cell_type": "code",
   "execution_count": 7,
   "id": "d3645aa0-a851-4e32-b171-7b900e2484c1",
   "metadata": {},
   "outputs": [
    {
     "name": "stdout",
     "output_type": "stream",
     "text": [
      "Updated CSV with county names saved as 'inputData/MORPC_Crashes_2019-2023_GIS_SUMMARY_GROUPED_FULL_1.csv'\n"
     ]
    },
    {
     "data": {
      "text/html": [
       "<div>\n",
       "<style scoped>\n",
       "    .dataframe tbody tr th:only-of-type {\n",
       "        vertical-align: middle;\n",
       "    }\n",
       "\n",
       "    .dataframe tbody tr th {\n",
       "        vertical-align: top;\n",
       "    }\n",
       "\n",
       "    .dataframe thead th {\n",
       "        text-align: right;\n",
       "    }\n",
       "</style>\n",
       "<table border=\"1\" class=\"dataframe\">\n",
       "  <thead>\n",
       "    <tr style=\"text-align: right;\">\n",
       "      <th></th>\n",
       "      <th>Year</th>\n",
       "      <th>NLF_COUNTY_CD</th>\n",
       "      <th>CRASH_TYPE_CD</th>\n",
       "      <th>ODPS_TOTAL_FATALITIES_NBR</th>\n",
       "      <th>INCAPAC_INJURIES_NBR</th>\n",
       "      <th>NON_INCAPAC_INJURIES_NBR</th>\n",
       "      <th>POSSIBLE_INJURIES_NBR</th>\n",
       "      <th>NO_INJURY_REPORTED_NBR</th>\n",
       "      <th>CRASH_COUNT</th>\n",
       "    </tr>\n",
       "  </thead>\n",
       "  <tbody>\n",
       "    <tr>\n",
       "      <th>0</th>\n",
       "      <td>2019</td>\n",
       "      <td>Crawford</td>\n",
       "      <td>Rear End</td>\n",
       "      <td>0</td>\n",
       "      <td>0</td>\n",
       "      <td>0</td>\n",
       "      <td>0</td>\n",
       "      <td>7</td>\n",
       "      <td>2</td>\n",
       "    </tr>\n",
       "    <tr>\n",
       "      <th>1</th>\n",
       "      <td>2019</td>\n",
       "      <td>Crawford</td>\n",
       "      <td>Angle</td>\n",
       "      <td>0</td>\n",
       "      <td>0</td>\n",
       "      <td>0</td>\n",
       "      <td>0</td>\n",
       "      <td>0</td>\n",
       "      <td>0</td>\n",
       "    </tr>\n",
       "    <tr>\n",
       "      <th>2</th>\n",
       "      <td>2019</td>\n",
       "      <td>Crawford</td>\n",
       "      <td>Animal</td>\n",
       "      <td>0</td>\n",
       "      <td>0</td>\n",
       "      <td>0</td>\n",
       "      <td>0</td>\n",
       "      <td>0</td>\n",
       "      <td>0</td>\n",
       "    </tr>\n",
       "    <tr>\n",
       "      <th>3</th>\n",
       "      <td>2019</td>\n",
       "      <td>Crawford</td>\n",
       "      <td>Backing</td>\n",
       "      <td>0</td>\n",
       "      <td>0</td>\n",
       "      <td>0</td>\n",
       "      <td>0</td>\n",
       "      <td>0</td>\n",
       "      <td>0</td>\n",
       "    </tr>\n",
       "    <tr>\n",
       "      <th>4</th>\n",
       "      <td>2019</td>\n",
       "      <td>Crawford</td>\n",
       "      <td>Fixed Object</td>\n",
       "      <td>0</td>\n",
       "      <td>0</td>\n",
       "      <td>0</td>\n",
       "      <td>0</td>\n",
       "      <td>0</td>\n",
       "      <td>0</td>\n",
       "    </tr>\n",
       "  </tbody>\n",
       "</table>\n",
       "</div>"
      ],
      "text/plain": [
       "   Year NLF_COUNTY_CD CRASH_TYPE_CD  ODPS_TOTAL_FATALITIES_NBR  \\\n",
       "0  2019      Crawford      Rear End                          0   \n",
       "1  2019      Crawford         Angle                          0   \n",
       "2  2019      Crawford        Animal                          0   \n",
       "3  2019      Crawford       Backing                          0   \n",
       "4  2019      Crawford  Fixed Object                          0   \n",
       "\n",
       "   INCAPAC_INJURIES_NBR  NON_INCAPAC_INJURIES_NBR  POSSIBLE_INJURIES_NBR  \\\n",
       "0                     0                         0                      0   \n",
       "1                     0                         0                      0   \n",
       "2                     0                         0                      0   \n",
       "3                     0                         0                      0   \n",
       "4                     0                         0                      0   \n",
       "\n",
       "   NO_INJURY_REPORTED_NBR  CRASH_COUNT  \n",
       "0                       7            2  \n",
       "1                       0            0  \n",
       "2                       0            0  \n",
       "3                       0            0  \n",
       "4                       0            0  "
      ]
     },
     "execution_count": 7,
     "metadata": {},
     "output_type": "execute_result"
    }
   ],
   "source": [
    "import pandas as pd\n",
    "\n",
    "# Load the local CSV file\n",
    "local_filename = input4_path\n",
    "df5 = pd.read_csv(local_filename)\n",
    "\n",
    "\n",
    "# Replace 'NLF_COUNTY_CD' with county names\n",
    "df5['NLF_COUNTY_CD'] = df5['NLF_COUNTY_CD'].map(county_code_to_name)\n",
    "\n",
    "# Save the updated DataFrame to a new CSV file\n",
    "input4_path = 'inputData/MORPC_Crashes_2019-2023_GIS_SUMMARY_GROUPED_FULL_1.csv'\n",
    "\n",
    "df5.to_csv(input4_path, index=False)\n",
    "\n",
    "print(f\"Updated CSV with county names saved as '{input4_path}'\")\n",
    "\n",
    "df5.head()"
   ]
  },
  {
   "cell_type": "markdown",
   "id": "9372589a-b96f-4505-a259-31afcc5c702d",
   "metadata": {},
   "source": [
    "### Summing for region "
   ]
  },
  {
   "cell_type": "code",
   "execution_count": 8,
   "id": "fd895900-a761-4bb3-b319-250d233e4bec",
   "metadata": {},
   "outputs": [
    {
     "name": "stdout",
     "output_type": "stream",
     "text": [
      "Summary of 'NLF_COUNTY_CD':\n",
      "NLF_COUNTY_CD\n",
      "Delaware     110\n",
      "Fairfield    110\n",
      "Franklin     110\n",
      "Knox         110\n",
      "Licking      110\n",
      "Madison      110\n",
      "Marion       110\n",
      "Morrow       110\n",
      "Pickaway     110\n",
      "Union        110\n",
      "10-County    110\n",
      "Name: count, dtype: int64\n"
     ]
    }
   ],
   "source": [
    "# Filter the dataframe to include only the selected counties\n",
    "df5_filtered = df5[df5['NLF_COUNTY_CD'].isin(selected_counties)]\n",
    "\n",
    "# Group by the relevant columns and sum the 'POP' variable for selected counties\n",
    "data2_1 = df5_filtered.groupby(\n",
    "    ['Year', 'CRASH_TYPE_CD']\n",
    ")[['ODPS_TOTAL_FATALITIES_NBR', 'INCAPAC_INJURIES_NBR', 'NON_INCAPAC_INJURIES_NBR', 'POSSIBLE_INJURIES_NBR', 'NO_INJURY_REPORTED_NBR', 'CRASH_COUNT']].sum().reset_index()\n",
    "\n",
    "# Add a new column for the COUNTY identifier\n",
    "data2_1['NLF_COUNTY_CD'] = '10-County'\n",
    "\n",
    "# Rearrange columns to match the original dataset order\n",
    "data2_1 = data2_1[['Year','NLF_COUNTY_CD','CRASH_TYPE_CD','CRASH_COUNT','ODPS_TOTAL_FATALITIES_NBR','INCAPAC_INJURIES_NBR','NON_INCAPAC_INJURIES_NBR','POSSIBLE_INJURIES_NBR','NO_INJURY_REPORTED_NBR']]\n",
    "\n",
    "# Append the new '15County' entries to the filtered dataset\n",
    "data3 = pd.concat([df5_filtered, data2_1], ignore_index=True)\n",
    "\n",
    "# Save the data to CSV after appending the new entries\n",
    "data3.to_csv('outputData/MORPC_Crashes_2019-2023_regional_summary_WIDE.csv', index=False)\n",
    "\n",
    "# Reshape the data from wide to long format\n",
    "data_long = pd.melt(data3, id_vars=['Year', 'NLF_COUNTY_CD', 'CRASH_TYPE_CD'],\n",
    "                    var_name='Incident_Type', value_name='Incident_Count')\n",
    "\n",
    "# Save the long-format data to CSV\n",
    "data_long.to_csv('outputData/MORPC_Crashes_2019-2023_regional_summary_LONG.csv', index=False)\n",
    "\n",
    "# Summarize the 'CRASH_TYPE_CD' column by counting occurrences\n",
    "crash_type_summary = data3['NLF_COUNTY_CD'].value_counts()\n",
    "\n",
    "\n",
    "# Display the summary\n",
    "print(\"Summary of 'NLF_COUNTY_CD':\")\n",
    "print(crash_type_summary)"
   ]
  },
  {
   "cell_type": "markdown",
   "id": "c7966d76-aa66-4dd8-8c98-887ad9fb7627",
   "metadata": {},
   "source": [
    "#### Injury 2"
   ]
  },
  {
   "cell_type": "code",
   "execution_count": 13,
   "id": "2f0ae2ce-c7c8-42d5-8e2b-2bc6659273f1",
   "metadata": {},
   "outputs": [
    {
     "name": "stderr",
     "output_type": "stream",
     "text": [
      "C:\\Users\\ogwynn\\AppData\\Local\\Temp\\ipykernel_11576\\4062712259.py:59: FutureWarning: DataFrame.groupby with axis=1 is deprecated. Do `frame.T.groupby(...)` without axis instead.\n",
      "  summed_data = pivot_data.groupby(axis=1, level=1).sum()\n",
      "C:\\Users\\ogwynn\\AppData\\Local\\Temp\\ipykernel_11576\\4062712259.py:59: FutureWarning: DataFrame.groupby with axis=1 is deprecated. Do `frame.T.groupby(...)` without axis instead.\n",
      "  summed_data = pivot_data.groupby(axis=1, level=1).sum()\n",
      "C:\\Users\\ogwynn\\AppData\\Local\\Temp\\ipykernel_11576\\4062712259.py:59: FutureWarning: DataFrame.groupby with axis=1 is deprecated. Do `frame.T.groupby(...)` without axis instead.\n",
      "  summed_data = pivot_data.groupby(axis=1, level=1).sum()\n",
      "C:\\Users\\ogwynn\\AppData\\Local\\Temp\\ipykernel_11576\\4062712259.py:59: FutureWarning: DataFrame.groupby with axis=1 is deprecated. Do `frame.T.groupby(...)` without axis instead.\n",
      "  summed_data = pivot_data.groupby(axis=1, level=1).sum()\n",
      "C:\\Users\\ogwynn\\AppData\\Local\\Temp\\ipykernel_11576\\4062712259.py:59: FutureWarning: DataFrame.groupby with axis=1 is deprecated. Do `frame.T.groupby(...)` without axis instead.\n",
      "  summed_data = pivot_data.groupby(axis=1, level=1).sum()\n",
      "C:\\Users\\ogwynn\\AppData\\Local\\Temp\\ipykernel_11576\\4062712259.py:59: FutureWarning: DataFrame.groupby with axis=1 is deprecated. Do `frame.T.groupby(...)` without axis instead.\n",
      "  summed_data = pivot_data.groupby(axis=1, level=1).sum()\n",
      "C:\\Users\\ogwynn\\AppData\\Local\\Temp\\ipykernel_11576\\4062712259.py:59: FutureWarning: DataFrame.groupby with axis=1 is deprecated. Do `frame.T.groupby(...)` without axis instead.\n",
      "  summed_data = pivot_data.groupby(axis=1, level=1).sum()\n",
      "C:\\Users\\ogwynn\\AppData\\Local\\Temp\\ipykernel_11576\\4062712259.py:59: FutureWarning: DataFrame.groupby with axis=1 is deprecated. Do `frame.T.groupby(...)` without axis instead.\n",
      "  summed_data = pivot_data.groupby(axis=1, level=1).sum()\n",
      "C:\\Users\\ogwynn\\AppData\\Local\\Temp\\ipykernel_11576\\4062712259.py:59: FutureWarning: DataFrame.groupby with axis=1 is deprecated. Do `frame.T.groupby(...)` without axis instead.\n",
      "  summed_data = pivot_data.groupby(axis=1, level=1).sum()\n",
      "C:\\Users\\ogwynn\\AppData\\Local\\Temp\\ipykernel_11576\\4062712259.py:59: FutureWarning: DataFrame.groupby with axis=1 is deprecated. Do `frame.T.groupby(...)` without axis instead.\n",
      "  summed_data = pivot_data.groupby(axis=1, level=1).sum()\n",
      "C:\\Users\\ogwynn\\AppData\\Local\\Temp\\ipykernel_11576\\4062712259.py:59: FutureWarning: DataFrame.groupby with axis=1 is deprecated. Do `frame.T.groupby(...)` without axis instead.\n",
      "  summed_data = pivot_data.groupby(axis=1, level=1).sum()\n"
     ]
    },
    {
     "name": "stdout",
     "output_type": "stream",
     "text": [
      "CSV file saved at: AGO_County_Injury_Trends_Mapping.csv\n"
     ]
    },
    {
     "data": {
      "text/plain": [
       "<Figure size 1600x900 with 0 Axes>"
      ]
     },
     "metadata": {},
     "output_type": "display_data"
    },
    {
     "data": {
      "text/plain": [
       "<Figure size 1600x900 with 0 Axes>"
      ]
     },
     "metadata": {},
     "output_type": "display_data"
    },
    {
     "data": {
      "text/plain": [
       "<Figure size 1600x900 with 0 Axes>"
      ]
     },
     "metadata": {},
     "output_type": "display_data"
    },
    {
     "data": {
      "text/plain": [
       "<Figure size 1600x900 with 0 Axes>"
      ]
     },
     "metadata": {},
     "output_type": "display_data"
    },
    {
     "data": {
      "text/plain": [
       "<Figure size 1600x900 with 0 Axes>"
      ]
     },
     "metadata": {},
     "output_type": "display_data"
    },
    {
     "data": {
      "text/plain": [
       "<Figure size 1600x900 with 0 Axes>"
      ]
     },
     "metadata": {},
     "output_type": "display_data"
    },
    {
     "data": {
      "text/plain": [
       "<Figure size 1600x900 with 0 Axes>"
      ]
     },
     "metadata": {},
     "output_type": "display_data"
    },
    {
     "data": {
      "text/plain": [
       "<Figure size 1600x900 with 0 Axes>"
      ]
     },
     "metadata": {},
     "output_type": "display_data"
    },
    {
     "data": {
      "text/plain": [
       "<Figure size 1600x900 with 0 Axes>"
      ]
     },
     "metadata": {},
     "output_type": "display_data"
    },
    {
     "data": {
      "text/plain": [
       "<Figure size 1600x900 with 0 Axes>"
      ]
     },
     "metadata": {},
     "output_type": "display_data"
    },
    {
     "data": {
      "text/plain": [
       "<Figure size 1600x900 with 0 Axes>"
      ]
     },
     "metadata": {},
     "output_type": "display_data"
    }
   ],
   "source": [
    "# Define injury-related columns to reshape data from wide to long format\n",
    "injury_columns = [\n",
    "    'INCAPAC_INJURIES_NBR',\n",
    "    'NON_INCAPAC_INJURIES_NBR',\n",
    "    'POSSIBLE_INJURIES_NBR',\n",
    "    'ODPS_TOTAL_FATALITIES_NBR'\n",
    "]\n",
    "\n",
    "# Melt the dataframe to long format for analysis\n",
    "df_long = df.melt(\n",
    "    id_vars=['Year', 'NLF_COUNTY_CD', 'CRASH_TYPE_CD'],\n",
    "    value_vars=injury_columns,\n",
    "    var_name='Incident_Type',\n",
    "    value_name='Incident_Count'\n",
    ")\n",
    "\n",
    "# Rename incident types for readability\n",
    "df_long['Incident_Type'] = df_long['Incident_Type'].replace({\n",
    "    'INCAPAC_INJURIES_NBR': 'Incapacitating',\n",
    "    'NON_INCAPAC_INJURIES_NBR': 'Non-Incapacitating',\n",
    "    'ODPS_TOTAL_FATALITIES_NBR': 'Fatalities',\n",
    "    'POSSIBLE_INJURIES_NBR': 'Possible Injuries'\n",
    "})\n",
    "\n",
    "# Classify crashes as Motorized or Non-Motorized\n",
    "df_long['CASUALTY_TYPE'] = df_long['CRASH_TYPE_CD'].apply(\n",
    "    lambda x: 'Non-motorized' if 'Pedestrian' in x or 'Pedalcycle' in x else 'Motorized'\n",
    ")\n",
    "\n",
    "# Aggregate data by Year, County, and Casualty Type\n",
    "aggregated_df = df_long.groupby(\n",
    "    ['Year', 'NLF_COUNTY_CD', 'CASUALTY_TYPE', 'Incident_Type'], as_index=False\n",
    ")['Incident_Count'].sum()\n",
    "\n",
    "# Improved color palette for charts\n",
    "colors = ['#365072', '#0075BF', '#2A7F67','#00B2BF', '#8DBF00']\n",
    "\n",
    "# Create output directory if it doesn't exist\n",
    "output_dir = 'outputData/injuryPlots'\n",
    "os.makedirs(output_dir, exist_ok=True)\n",
    "\n",
    "# List of selected counties\n",
    "selected_counties = aggregated_df['NLF_COUNTY_CD'].unique()\n",
    "\n",
    "# Dictionary to store COUNTY to itemID mapping\n",
    "county_item_mapping = {}\n",
    "\n",
    "# Create and save injury trend line charts for each county\n",
    "for county in selected_counties:\n",
    "    county_data = aggregated_df[aggregated_df['NLF_COUNTY_CD'] == county]\n",
    "    pivot_data = county_data.pivot_table(\n",
    "        index='Year',\n",
    "        columns=['CASUALTY_TYPE', 'Incident_Type'],\n",
    "        values='Incident_Count',\n",
    "        aggfunc='sum'\n",
    "    ).fillna(0)\n",
    "\n",
    "    # Combine Motorized and Non-Motorized into summed columns\n",
    "    summed_data = pivot_data.groupby(axis=1, level=1).sum()\n",
    "\n",
    "    plt.figure(figsize=(16, 9))\n",
    "    summed_data.plot(\n",
    "        kind='line', marker='o', figsize=(16, 9),\n",
    "        color=colors[:len(summed_data.columns)], linewidth=2\n",
    "    )\n",
    "\n",
    "    # Enhanced visualization details\n",
    "    plt.title(f'Crash Injuries in {county} County (2019-2023)', fontsize=25, pad=20)\n",
    "    plt.ylabel('Injury Count', fontsize=20)\n",
    "    plt.xlabel('', fontsize=1)\n",
    "    plt.xticks(rotation=0, fontsize=18)\n",
    "    plt.yticks(fontsize=18)\n",
    "    plt.legend(\n",
    "        title='Injury Type', fontsize=15, title_fontsize=18, loc='upper center',\n",
    "        bbox_to_anchor=(0.5, -0.1), ncol=2\n",
    "    )\n",
    "    plt.grid(axis='y', linestyle='--', alpha=0.7)\n",
    "    plt.tight_layout()\n",
    "\n",
    "    # Save the plot\n",
    "    output_path = os.path.join(output_dir, f'{county}_injury_trends_2019_2023.png')\n",
    "    plt.savefig(output_path, bbox_inches='tight')\n",
    "    plt.close()\n",
    "\n",
    "    # Placeholder ID for AGO demonstration purposes\n",
    "    county_item_mapping[county] = f\"simulated_item_id_for_{county}\"\n",
    "\n",
    "# Convert the mapping dictionary to a DataFrame\n",
    "mapping_df = pd.DataFrame(list(county_item_mapping.items()), columns=['NLF_COUNTY_CD', 'itemID'])\n",
    "mapping_df['insightType'] = 'injuryTrends'\n",
    "\n",
    "# Add the 'insightType' column\n",
    "mapping_df['TilesetID'] = 17\n",
    "\n",
    "# Save or append the DataFrame to a CSV file\n",
    "output_csv_path = 'AGO_County_ItemID_Mapping.csv'\n",
    "# Save the mapping to a CSV file\n",
    "injury_mapping_file_path = 'AGO_County_Injury_Trends_Mapping.csv'\n",
    "mapping_df.to_csv(injury_mapping_file_path, index=False)\n",
    "\n",
    "# Output confirmation of the generated CSV\n",
    "print(f\"CSV file saved at: {injury_mapping_file_path}\")\n"
   ]
  },
  {
   "cell_type": "markdown",
   "id": "a6f24660-76e1-4599-a3e4-7fec1f2a648d",
   "metadata": {},
   "source": [
    "## Uploading to AGO"
   ]
  },
  {
   "cell_type": "code",
   "execution_count": 17,
   "id": "dc7154a8-ae96-4492-b0d5-d38d3cf064dc",
   "metadata": {},
   "outputs": [
    {
     "name": "stdout",
     "output_type": "stream",
     "text": [
      "Deleted existing item with title: 10-County injury trends 2019 2023\n"
     ]
    },
    {
     "name": "stderr",
     "output_type": "stream",
     "text": [
      "C:\\Users\\ogwynn\\AppData\\Local\\Packages\\PythonSoftwareFoundation.Python.3.12_qbz5n2kfra8p0\\LocalCache\\local-packages\\Python312\\site-packages\\IPython\\core\\interactiveshell.py:3577: DeprecatedWarning: add is deprecated as of 2.3.0 and has been removed in 3.0.0. Use `Folder.add()` instead.\n",
      "  exec(code_obj, self.user_global_ns, self.user_ns)\n",
      "C:\\Users\\ogwynn\\AppData\\Local\\Packages\\PythonSoftwareFoundation.Python.3.12_qbz5n2kfra8p0\\LocalCache\\local-packages\\Python312\\site-packages\\IPython\\core\\interactiveshell.py:3577: DeprecatedWarning: share is deprecated as of 2.3.0 and has been removed in 3.0.0. Use `Item.sharing` instead.\n",
      "  exec(code_obj, self.user_global_ns, self.user_ns)\n"
     ]
    },
    {
     "name": "stdout",
     "output_type": "stream",
     "text": [
      "Uploaded 10-County_injury_trends_2019_2023.png with item ID: 096bdfa8799e468b91d7df74a70d8744 and set it to public\n",
      "Deleted existing item with title: Delaware injury trends 2019 2023\n"
     ]
    },
    {
     "name": "stderr",
     "output_type": "stream",
     "text": [
      "C:\\Users\\ogwynn\\AppData\\Local\\Packages\\PythonSoftwareFoundation.Python.3.12_qbz5n2kfra8p0\\LocalCache\\local-packages\\Python312\\site-packages\\IPython\\core\\interactiveshell.py:3577: DeprecatedWarning: add is deprecated as of 2.3.0 and has been removed in 3.0.0. Use `Folder.add()` instead.\n",
      "  exec(code_obj, self.user_global_ns, self.user_ns)\n",
      "C:\\Users\\ogwynn\\AppData\\Local\\Packages\\PythonSoftwareFoundation.Python.3.12_qbz5n2kfra8p0\\LocalCache\\local-packages\\Python312\\site-packages\\IPython\\core\\interactiveshell.py:3577: DeprecatedWarning: share is deprecated as of 2.3.0 and has been removed in 3.0.0. Use `Item.sharing` instead.\n",
      "  exec(code_obj, self.user_global_ns, self.user_ns)\n"
     ]
    },
    {
     "name": "stdout",
     "output_type": "stream",
     "text": [
      "Uploaded Delaware_injury_trends_2019_2023.png with item ID: 4273fdb4c6674112b5fd4526602b5a16 and set it to public\n",
      "Deleted existing item with title: Fairfield injury trends 2019 2023\n"
     ]
    },
    {
     "name": "stderr",
     "output_type": "stream",
     "text": [
      "C:\\Users\\ogwynn\\AppData\\Local\\Packages\\PythonSoftwareFoundation.Python.3.12_qbz5n2kfra8p0\\LocalCache\\local-packages\\Python312\\site-packages\\IPython\\core\\interactiveshell.py:3577: DeprecatedWarning: add is deprecated as of 2.3.0 and has been removed in 3.0.0. Use `Folder.add()` instead.\n",
      "  exec(code_obj, self.user_global_ns, self.user_ns)\n",
      "C:\\Users\\ogwynn\\AppData\\Local\\Packages\\PythonSoftwareFoundation.Python.3.12_qbz5n2kfra8p0\\LocalCache\\local-packages\\Python312\\site-packages\\IPython\\core\\interactiveshell.py:3577: DeprecatedWarning: share is deprecated as of 2.3.0 and has been removed in 3.0.0. Use `Item.sharing` instead.\n",
      "  exec(code_obj, self.user_global_ns, self.user_ns)\n"
     ]
    },
    {
     "name": "stdout",
     "output_type": "stream",
     "text": [
      "Uploaded Fairfield_injury_trends_2019_2023.png with item ID: 75f0addfa55d48858d7432981cd629ab and set it to public\n",
      "Deleted existing item with title: Franklin injury trends 2019 2023\n"
     ]
    },
    {
     "name": "stderr",
     "output_type": "stream",
     "text": [
      "C:\\Users\\ogwynn\\AppData\\Local\\Packages\\PythonSoftwareFoundation.Python.3.12_qbz5n2kfra8p0\\LocalCache\\local-packages\\Python312\\site-packages\\IPython\\core\\interactiveshell.py:3577: DeprecatedWarning: add is deprecated as of 2.3.0 and has been removed in 3.0.0. Use `Folder.add()` instead.\n",
      "  exec(code_obj, self.user_global_ns, self.user_ns)\n",
      "C:\\Users\\ogwynn\\AppData\\Local\\Packages\\PythonSoftwareFoundation.Python.3.12_qbz5n2kfra8p0\\LocalCache\\local-packages\\Python312\\site-packages\\IPython\\core\\interactiveshell.py:3577: DeprecatedWarning: share is deprecated as of 2.3.0 and has been removed in 3.0.0. Use `Item.sharing` instead.\n",
      "  exec(code_obj, self.user_global_ns, self.user_ns)\n"
     ]
    },
    {
     "name": "stdout",
     "output_type": "stream",
     "text": [
      "Uploaded Franklin_injury_trends_2019_2023.png with item ID: 05d36fcc2f8b4b539b236ea8ca695f5d and set it to public\n",
      "Deleted existing item with title: Knox injury trends 2019 2023\n"
     ]
    },
    {
     "name": "stderr",
     "output_type": "stream",
     "text": [
      "C:\\Users\\ogwynn\\AppData\\Local\\Packages\\PythonSoftwareFoundation.Python.3.12_qbz5n2kfra8p0\\LocalCache\\local-packages\\Python312\\site-packages\\IPython\\core\\interactiveshell.py:3577: DeprecatedWarning: add is deprecated as of 2.3.0 and has been removed in 3.0.0. Use `Folder.add()` instead.\n",
      "  exec(code_obj, self.user_global_ns, self.user_ns)\n",
      "C:\\Users\\ogwynn\\AppData\\Local\\Packages\\PythonSoftwareFoundation.Python.3.12_qbz5n2kfra8p0\\LocalCache\\local-packages\\Python312\\site-packages\\IPython\\core\\interactiveshell.py:3577: DeprecatedWarning: share is deprecated as of 2.3.0 and has been removed in 3.0.0. Use `Item.sharing` instead.\n",
      "  exec(code_obj, self.user_global_ns, self.user_ns)\n"
     ]
    },
    {
     "name": "stdout",
     "output_type": "stream",
     "text": [
      "Uploaded Knox_injury_trends_2019_2023.png with item ID: c1b8c6d2d0984be6b9a2a0ad26941181 and set it to public\n",
      "Deleted existing item with title: Licking injury trends 2019 2023\n"
     ]
    },
    {
     "name": "stderr",
     "output_type": "stream",
     "text": [
      "C:\\Users\\ogwynn\\AppData\\Local\\Packages\\PythonSoftwareFoundation.Python.3.12_qbz5n2kfra8p0\\LocalCache\\local-packages\\Python312\\site-packages\\IPython\\core\\interactiveshell.py:3577: DeprecatedWarning: add is deprecated as of 2.3.0 and has been removed in 3.0.0. Use `Folder.add()` instead.\n",
      "  exec(code_obj, self.user_global_ns, self.user_ns)\n",
      "C:\\Users\\ogwynn\\AppData\\Local\\Packages\\PythonSoftwareFoundation.Python.3.12_qbz5n2kfra8p0\\LocalCache\\local-packages\\Python312\\site-packages\\IPython\\core\\interactiveshell.py:3577: DeprecatedWarning: share is deprecated as of 2.3.0 and has been removed in 3.0.0. Use `Item.sharing` instead.\n",
      "  exec(code_obj, self.user_global_ns, self.user_ns)\n"
     ]
    },
    {
     "name": "stdout",
     "output_type": "stream",
     "text": [
      "Uploaded Licking_injury_trends_2019_2023.png with item ID: 510fb9166264422a9c691b1a25e1b17c and set it to public\n",
      "Deleted existing item with title: Madison injury trends 2019 2023\n"
     ]
    },
    {
     "name": "stderr",
     "output_type": "stream",
     "text": [
      "C:\\Users\\ogwynn\\AppData\\Local\\Packages\\PythonSoftwareFoundation.Python.3.12_qbz5n2kfra8p0\\LocalCache\\local-packages\\Python312\\site-packages\\IPython\\core\\interactiveshell.py:3577: DeprecatedWarning: add is deprecated as of 2.3.0 and has been removed in 3.0.0. Use `Folder.add()` instead.\n",
      "  exec(code_obj, self.user_global_ns, self.user_ns)\n",
      "C:\\Users\\ogwynn\\AppData\\Local\\Packages\\PythonSoftwareFoundation.Python.3.12_qbz5n2kfra8p0\\LocalCache\\local-packages\\Python312\\site-packages\\IPython\\core\\interactiveshell.py:3577: DeprecatedWarning: share is deprecated as of 2.3.0 and has been removed in 3.0.0. Use `Item.sharing` instead.\n",
      "  exec(code_obj, self.user_global_ns, self.user_ns)\n"
     ]
    },
    {
     "name": "stdout",
     "output_type": "stream",
     "text": [
      "Uploaded Madison_injury_trends_2019_2023.png with item ID: 6663d07130d649b8b0d6347faaf23cfd and set it to public\n",
      "Deleted existing item with title: Marion injury trends 2019 2023\n"
     ]
    },
    {
     "name": "stderr",
     "output_type": "stream",
     "text": [
      "C:\\Users\\ogwynn\\AppData\\Local\\Packages\\PythonSoftwareFoundation.Python.3.12_qbz5n2kfra8p0\\LocalCache\\local-packages\\Python312\\site-packages\\IPython\\core\\interactiveshell.py:3577: DeprecatedWarning: add is deprecated as of 2.3.0 and has been removed in 3.0.0. Use `Folder.add()` instead.\n",
      "  exec(code_obj, self.user_global_ns, self.user_ns)\n",
      "C:\\Users\\ogwynn\\AppData\\Local\\Packages\\PythonSoftwareFoundation.Python.3.12_qbz5n2kfra8p0\\LocalCache\\local-packages\\Python312\\site-packages\\IPython\\core\\interactiveshell.py:3577: DeprecatedWarning: share is deprecated as of 2.3.0 and has been removed in 3.0.0. Use `Item.sharing` instead.\n",
      "  exec(code_obj, self.user_global_ns, self.user_ns)\n"
     ]
    },
    {
     "name": "stdout",
     "output_type": "stream",
     "text": [
      "Uploaded Marion_injury_trends_2019_2023.png with item ID: c62e001f77244f90a3b7564cad0cf7a6 and set it to public\n",
      "Deleted existing item with title: Morrow injury trends 2019 2023\n"
     ]
    },
    {
     "name": "stderr",
     "output_type": "stream",
     "text": [
      "C:\\Users\\ogwynn\\AppData\\Local\\Packages\\PythonSoftwareFoundation.Python.3.12_qbz5n2kfra8p0\\LocalCache\\local-packages\\Python312\\site-packages\\IPython\\core\\interactiveshell.py:3577: DeprecatedWarning: add is deprecated as of 2.3.0 and has been removed in 3.0.0. Use `Folder.add()` instead.\n",
      "  exec(code_obj, self.user_global_ns, self.user_ns)\n",
      "C:\\Users\\ogwynn\\AppData\\Local\\Packages\\PythonSoftwareFoundation.Python.3.12_qbz5n2kfra8p0\\LocalCache\\local-packages\\Python312\\site-packages\\IPython\\core\\interactiveshell.py:3577: DeprecatedWarning: share is deprecated as of 2.3.0 and has been removed in 3.0.0. Use `Item.sharing` instead.\n",
      "  exec(code_obj, self.user_global_ns, self.user_ns)\n"
     ]
    },
    {
     "name": "stdout",
     "output_type": "stream",
     "text": [
      "Uploaded Morrow_injury_trends_2019_2023.png with item ID: dc1dcc7e694942fc84d4e0c1ca137a43 and set it to public\n",
      "Deleted existing item with title: Pickaway injury trends 2019 2023\n"
     ]
    },
    {
     "name": "stderr",
     "output_type": "stream",
     "text": [
      "C:\\Users\\ogwynn\\AppData\\Local\\Packages\\PythonSoftwareFoundation.Python.3.12_qbz5n2kfra8p0\\LocalCache\\local-packages\\Python312\\site-packages\\IPython\\core\\interactiveshell.py:3577: DeprecatedWarning: add is deprecated as of 2.3.0 and has been removed in 3.0.0. Use `Folder.add()` instead.\n",
      "  exec(code_obj, self.user_global_ns, self.user_ns)\n",
      "C:\\Users\\ogwynn\\AppData\\Local\\Packages\\PythonSoftwareFoundation.Python.3.12_qbz5n2kfra8p0\\LocalCache\\local-packages\\Python312\\site-packages\\IPython\\core\\interactiveshell.py:3577: DeprecatedWarning: share is deprecated as of 2.3.0 and has been removed in 3.0.0. Use `Item.sharing` instead.\n",
      "  exec(code_obj, self.user_global_ns, self.user_ns)\n"
     ]
    },
    {
     "name": "stdout",
     "output_type": "stream",
     "text": [
      "Uploaded Pickaway_injury_trends_2019_2023.png with item ID: 4f469707b4f24dac8e3295beaf4bfc3c and set it to public\n",
      "Deleted existing item with title: Union injury trends 2019 2023\n"
     ]
    },
    {
     "name": "stderr",
     "output_type": "stream",
     "text": [
      "C:\\Users\\ogwynn\\AppData\\Local\\Packages\\PythonSoftwareFoundation.Python.3.12_qbz5n2kfra8p0\\LocalCache\\local-packages\\Python312\\site-packages\\IPython\\core\\interactiveshell.py:3577: DeprecatedWarning: add is deprecated as of 2.3.0 and has been removed in 3.0.0. Use `Folder.add()` instead.\n",
      "  exec(code_obj, self.user_global_ns, self.user_ns)\n",
      "C:\\Users\\ogwynn\\AppData\\Local\\Packages\\PythonSoftwareFoundation.Python.3.12_qbz5n2kfra8p0\\LocalCache\\local-packages\\Python312\\site-packages\\IPython\\core\\interactiveshell.py:3577: DeprecatedWarning: share is deprecated as of 2.3.0 and has been removed in 3.0.0. Use `Item.sharing` instead.\n",
      "  exec(code_obj, self.user_global_ns, self.user_ns)\n"
     ]
    },
    {
     "name": "stdout",
     "output_type": "stream",
     "text": [
      "Uploaded Union_injury_trends_2019_2023.png with item ID: 19f2bad8fb34433a8396d851c5c9e943 and set it to public\n"
     ]
    }
   ],
   "source": [
    "import time\n",
    "from arcgis.gis import GIS\n",
    "import os\n",
    "import pandas as pd\n",
    "\n",
    "# Directory where images are saved\n",
    "output_dir = 'outputData/injuryPlots'\n",
    "\n",
    "# Initialize dictionary to store county-item mappings\n",
    "county_item_mapping = {}\n",
    "\n",
    "# Loop through each file in the directory and upload it\n",
    "for filename in os.listdir(output_dir):\n",
    "    if filename.endswith(\".png\"):\n",
    "        file_path = os.path.join(output_dir, filename)\n",
    "        \n",
    "        # Define item properties\n",
    "        title = filename.replace(\"_\", \" \").replace(\".png\", \"\")\n",
    "        county_name = filename.split('_')[0]  # Extract county name from the filename\n",
    "        item_properties = {\n",
    "            \"title\": title,\n",
    "            \"tags\": \"county, population, race, demographics\",\n",
    "            \"description\": f\"Population proportion over time by race for {county_name} county.\",\n",
    "            \"type\": \"Image\"\n",
    "        }\n",
    "        \n",
    "        # Search for an existing item with the same title\n",
    "        existing_items = gis.content.search(query=title, item_type=\"Image\", max_items=1)\n",
    "        if existing_items:\n",
    "            # If an existing item is found, delete it\n",
    "            existing_item = existing_items[0]\n",
    "            existing_item.delete()\n",
    "            print(f\"Deleted existing item with title: {title}\")\n",
    "            time.sleep(2)  # Wait for 2 seconds before uploading the new item\n",
    "\n",
    "\n",
    "        try:\n",
    "            # Upload the new image\n",
    "            image_item = gis.content.add(item_properties, data=file_path)\n",
    "            \n",
    "            # Make the item public\n",
    "            image_item.share(everyone=True)\n",
    "\n",
    "            # Store item ID in the dictionary\n",
    "            county_item_mapping[county_name] = f\"https://morpc.maps.arcgis.com/sharing/rest/content/items/{image_item.id}/data\"\n",
    "            \n",
    "            # Print confirmation\n",
    "            print(f\"Uploaded {filename} with item ID: {image_item.id} and set it to public\")\n",
    "        \n",
    "        except Exception as e:\n",
    "            print(f\"Error uploading {filename}: {e}\")\n",
    "\n",
    "# Convert the dictionary to a DataFrame and save\n",
    "mapping_df = pd.DataFrame(list(county_item_mapping.items()), columns=['COUNTY', 'itemID'])\n",
    "mapping_df['TilesetID'] = 17\n",
    "mapping_file_path = 'AGO_County_ItemID_Mapping.csv'\n",
    "mapping_df.to_csv(mapping_file_path, index=False)\n",
    "\n"
   ]
  },
  {
   "cell_type": "markdown",
   "id": "f65be140-5581-48f7-83f6-cdad7423c12a",
   "metadata": {},
   "source": [
    "### Update Metadata Local"
   ]
  },
  {
   "cell_type": "code",
   "execution_count": 22,
   "id": "be166931-5612-4f3e-8bab-3e25b7ff1a81",
   "metadata": {},
   "outputs": [
    {
     "name": "stdout",
     "output_type": "stream",
     "text": [
      "CSV file downloaded successfully: inputData\\insightsCatalog\\morpc_insights_catalog.xlsx\n"
     ]
    }
   ],
   "source": [
    "# Define the directory to save the data\n",
    "data_path = Path('inputData/insightsCatalog')\n",
    "data_path.mkdir(parents=True, exist_ok=True)\n",
    "\n",
    "# Access the CSV item by ID\n",
    "catalog_item_id = \"c396b9d0db724d1f870fa47f1d1dc1ce\"\n",
    "csv_item = gis.content.get(catalog_item_id)\n",
    "\n",
    "# Download the CSV file\n",
    "catalog_path = csv_item.download(save_path=data_path)\n",
    "\n",
    "print(f\"CSV file downloaded successfully: {catalog_path}\")\n",
    "\n"
   ]
  },
  {
   "cell_type": "code",
   "execution_count": 23,
   "id": "f28e0b0a-eb1c-4620-a06e-b987f6dc3284",
   "metadata": {},
   "outputs": [
    {
     "name": "stdout",
     "output_type": "stream",
     "text": [
      "Updated catalog saved at: outputData/morpc_insights_catalog_updated.xlsx\n"
     ]
    }
   ],
   "source": [
    "import pandas as pd\n",
    "\n",
    "# Load the catalog data\n",
    "catalog_df = pd.read_excel(catalog_path)\n",
    "\n",
    "# Load the mapping data\n",
    "mapping_df = pd.read_csv(mapping_file_path)\n",
    "\n",
    "# Ensure consistent naming\n",
    "mapping_df['COUNTY'] = mapping_df['COUNTY'].replace('10-County', '10County')\n",
    "\n",
    "# Select only necessary columns from mapping_df\n",
    "selected_mapping_df = mapping_df[['COUNTY', 'TilesetID', 'itemID']]\n",
    "\n",
    "# Merge while keeping all columns from catalog_df\n",
    "merged_df = catalog_df.merge(\n",
    "    selected_mapping_df,\n",
    "    left_on=['GeographyName', 'TilesetID'],\n",
    "    right_on=['COUNTY', 'TilesetID'],\n",
    "    how='left'\n",
    ")\n",
    "\n",
    "# Update 'ThumbnailURL' using 'itemID' where applicable\n",
    "merged_df['ThumbnailURL'] = merged_df['itemID'].combine_first(merged_df['ThumbnailURL'])\n",
    "\n",
    "# Drop unnecessary columns from the merged dataset\n",
    "merged_df = merged_df.drop(columns=['COUNTY', 'itemID'], errors='ignore')\n",
    "\n",
    "# Ensure the final DataFrame retains only original catalog_df columns (plus the updated ThumbnailURL)\n",
    "expected_columns = list(catalog_df.columns)  # Retain all original columns\n",
    "if 'ThumbnailURL' not in expected_columns:\n",
    "    expected_columns.append('ThumbnailURL')  # Ensure ThumbnailURL is included\n",
    "\n",
    "merged_df = merged_df[expected_columns]  # Reorder columns to match the original catalog\n",
    "\n",
    "# Save the updated catalog back to an Excel file\n",
    "updated_catalog_path = \"outputData/morpc_insights_catalog_updated.xlsx\"\n",
    "merged_df.to_excel(updated_catalog_path, index=False)\n",
    "\n",
    "print(f\"Updated catalog saved at: {updated_catalog_path}\")\n"
   ]
  },
  {
   "cell_type": "code",
   "execution_count": 24,
   "id": "dacac8d3-16aa-4aec-906b-fd42cdc07e6b",
   "metadata": {},
   "outputs": [
    {
     "name": "stdout",
     "output_type": "stream",
     "text": [
      "Found item: morpc_insights_catalog (c396b9d0db724d1f870fa47f1d1dc1ce)\n",
      "Successfully replaced morpc_insights_catalog with the new file.\n"
     ]
    }
   ],
   "source": [
    "from arcgis.gis import GIS\n",
    "\n",
    "# Title or Item ID of the existing XLSX file in AGO\n",
    "item_id = \"c396b9d0db724d1f870fa47f1d1dc1ce\"\n",
    "local_xlsx_path = updated_catalog_path\n",
    "\n",
    "# --- Search for the Existing Item ---\n",
    "items = gis.content.search(item_id, item_type=\"Microsoft Excel\")\n",
    "if not items:\n",
    "    print(\"Error: No matching XLSX file found.\")\n",
    "else:\n",
    "    item = items[0]  # Assuming the first match is correct\n",
    "    print(f\"Found item: {item.title} ({item.id})\")\n",
    "\n",
    "    # --- Update the Item with the New File ---\n",
    "    item.update({}, local_xlsx_path)\n",
    "\n",
    "    print(f\"Successfully replaced {item.title} with the new file.\")\n"
   ]
  }
 ],
 "metadata": {
  "kernelspec": {
   "display_name": "Python 3 (ipykernel)",
   "language": "python",
   "name": "python3"
  },
  "language_info": {
   "codemirror_mode": {
    "name": "ipython",
    "version": 3
   },
   "file_extension": ".py",
   "mimetype": "text/x-python",
   "name": "python",
   "nbconvert_exporter": "python",
   "pygments_lexer": "ipython3",
   "version": "3.12.8"
  }
 },
 "nbformat": 4,
 "nbformat_minor": 5
}
